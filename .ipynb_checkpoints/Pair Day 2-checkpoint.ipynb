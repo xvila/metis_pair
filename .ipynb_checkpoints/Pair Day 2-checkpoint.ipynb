{
 "cells": [
  {
   "cell_type": "code",
   "execution_count": 3,
   "metadata": {},
   "outputs": [],
   "source": [
    "def canyouspell(nlist, name):\n",
    "    nameDict = {}\n",
    "    listDict = {}\n",
    "    for letter in name:\n",
    "        if letter in nameDict:\n",
    "            nameDict[letter] += 1\n",
    "        else:\n",
    "            nameDict[letter] = 1\n",
    "    \n",
    "    for letter in nlist:\n",
    "        if letter in listDict:\n",
    "            listDict[letter] += 1\n",
    "        else:\n",
    "            listDict[letter] = 1\n",
    "            \n",
    "    for k, v in listDict.iteritems():\n",
    "        if k not in nameDict or listDict[k] < nameDict[k]:\n",
    "            return \"NO\"\n",
    "        else:\n",
    "            \n",
    "            \n",
    "            \n",
    "            \n",
    "            \n",
    "    return nameDict, listDict\n",
    "            \n",
    "    "
   ]
  },
  {
   "cell_type": "code",
   "execution_count": 4,
   "metadata": {},
   "outputs": [
    {
     "data": {
      "text/plain": [
       "({'l': 1, 'n': 2, 'y': 1}, {'g': 1, 'l': 1, 'n': 2, 'p': 1, 'y': 1})"
      ]
     },
     "execution_count": 4,
     "metadata": {},
     "output_type": "execute_result"
    }
   ],
   "source": [
    "canyouspell(['y','n','p','g','n','l'],\"lynn\")"
   ]
  },
  {
   "cell_type": "code",
   "execution_count": null,
   "metadata": {
    "collapsed": true
   },
   "outputs": [],
   "source": []
  }
 ],
 "metadata": {
  "kernelspec": {
   "display_name": "Python 3",
   "language": "python",
   "name": "python3"
  },
  "language_info": {
   "codemirror_mode": {
    "name": "ipython",
    "version": 3
   },
   "file_extension": ".py",
   "mimetype": "text/x-python",
   "name": "python",
   "nbconvert_exporter": "python",
   "pygments_lexer": "ipython3",
   "version": "3.6.2"
  }
 },
 "nbformat": 4,
 "nbformat_minor": 2
}
