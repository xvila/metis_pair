{
 "cells": [
  {
   "cell_type": "markdown",
   "metadata": {},
   "source": [
    "## Day 4\n",
    "Pair Problem\n",
    "\n",
    "Another one from Project Euler: Problem 3:\n",
    "\n",
    "The prime factors of 13195 are 5, 7, 13 and 29.\n",
    "What is the largest prime factor of the number 600851475143 ?\n",
    "Please do not Google. See how best you can solve this problem on your own.\n",
    "\n",
    "What's your the complexity? Can you do better?"
   ]
  },
  {
   "cell_type": "code",
   "execution_count": 28,
   "metadata": {},
   "outputs": [],
   "source": [
    "def prime_factor(primenum):\n",
    "    primeorig = primenum;\n",
    "    prmArray = [];\n",
    "    d = 2;\n",
    "    counter = 0\n",
    "    while primenum > 1:\n",
    "        while primenum % d == 0:\n",
    "            prmArray.append(d);\n",
    "            primenum = primenum/ d;\n",
    "            print(prmArray)\n",
    "        d = d + 1;\n",
    "        counter += 1\n",
    "    print( 'The largest prime factor of ',primeorig,'is ',max(prmArray) )\n",
    "    return prmArray, max(prmArray), counter "
   ]
  },
  {
   "cell_type": "code",
   "execution_count": 29,
   "metadata": {},
   "outputs": [
    {
     "name": "stdout",
     "output_type": "stream",
     "text": [
      "[71]\n",
      "[71, 839]\n",
      "[71, 839, 1471]\n",
      "[71, 839, 1471, 6857]\n",
      "The largest prime factor of  600851475143 is  6857\n"
     ]
    }
   ],
   "source": [
    "alist, maxprime, counter = prime_factor(600851475143 )"
   ]
  },
  {
   "cell_type": "code",
   "execution_count": 30,
   "metadata": {},
   "outputs": [
    {
     "data": {
      "text/plain": [
       "6857"
      ]
     },
     "execution_count": 30,
     "metadata": {},
     "output_type": "execute_result"
    }
   ],
   "source": [
    "maxprime"
   ]
  },
  {
   "cell_type": "code",
   "execution_count": 31,
   "metadata": {},
   "outputs": [
    {
     "data": {
      "text/plain": [
       "[71, 839, 1471, 6857]"
      ]
     },
     "execution_count": 31,
     "metadata": {},
     "output_type": "execute_result"
    }
   ],
   "source": [
    "alist"
   ]
  },
  {
   "cell_type": "code",
   "execution_count": 32,
   "metadata": {},
   "outputs": [
    {
     "name": "stdout",
     "output_type": "stream",
     "text": [
      "[7]\n",
      "[7, 7]\n",
      "The largest prime factor of  49 is  7\n"
     ]
    },
    {
     "data": {
      "text/plain": [
       "([7, 7], 7, 6)"
      ]
     },
     "execution_count": 32,
     "metadata": {},
     "output_type": "execute_result"
    }
   ],
   "source": [
    "prime_factor(49)"
   ]
  },
  {
   "cell_type": "code",
   "execution_count": null,
   "metadata": {
    "collapsed": true
   },
   "outputs": [],
   "source": []
  }
 ],
 "metadata": {
  "kernelspec": {
   "display_name": "Python 3",
   "language": "python",
   "name": "python3"
  },
  "language_info": {
   "codemirror_mode": {
    "name": "ipython",
    "version": 3
   },
   "file_extension": ".py",
   "mimetype": "text/x-python",
   "name": "python",
   "nbconvert_exporter": "python",
   "pygments_lexer": "ipython3",
   "version": "3.6.2"
  }
 },
 "nbformat": 4,
 "nbformat_minor": 2
}
